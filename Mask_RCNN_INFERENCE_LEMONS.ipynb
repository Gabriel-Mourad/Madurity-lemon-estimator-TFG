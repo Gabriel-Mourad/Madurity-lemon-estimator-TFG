{
  "nbformat": 4,
  "nbformat_minor": 0,
  "metadata": {
    "colab": {
      "name": "Mask_RCNN_INFERENCE_LEMONS.ipynb",
      "provenance": [],
      "authorship_tag": "ABX9TyPwxzx5WLQFJu0X15+rqxB0",
      "include_colab_link": true
    },
    "kernelspec": {
      "name": "python3",
      "display_name": "Python 3"
    },
    "language_info": {
      "name": "python"
    },
    "accelerator": "GPU"
  },
  "cells": [
    {
      "cell_type": "markdown",
      "metadata": {
        "id": "view-in-github",
        "colab_type": "text"
      },
      "source": [
        "<a href=\"https://colab.research.google.com/github/Gabriel-Mourad/Madurity-lemon-estimator-TFG/blob/main/Mask_RCNN_INFERENCE_LEMONS.ipynb\" target=\"_parent\"><img src=\"https://colab.research.google.com/assets/colab-badge.svg\" alt=\"Open In Colab\"/></a>"
      ]
    },
    {
      "cell_type": "code",
      "metadata": {
        "colab": {
          "base_uri": "https://localhost:8080/"
        },
        "id": "_hrCJJLM33Gj",
        "outputId": "7fc28492-7362-4932-df2c-d5f77542a9b1"
      },
      "source": [
        "from google.colab import drive\n",
        "drive.mount('/gdrive')\n",
        "%cd /gdrive/MyDrive/TFG"
      ],
      "execution_count": null,
      "outputs": [
        {
          "output_type": "stream",
          "text": [
            "Mounted at /gdrive\n",
            "/gdrive/MyDrive/TFG\n"
          ],
          "name": "stdout"
        }
      ]
    },
    {
      "cell_type": "code",
      "metadata": {
        "colab": {
          "base_uri": "https://localhost:8080/"
        },
        "id": "FYkaneuV4MJV",
        "outputId": "50926712-b941-4b65-f29b-baace21796f9"
      },
      "source": [
        "%tensorflow_version 1.x"
      ],
      "execution_count": null,
      "outputs": [
        {
          "output_type": "stream",
          "text": [
            "TensorFlow 1.x selected.\n"
          ],
          "name": "stdout"
        }
      ]
    },
    {
      "cell_type": "code",
      "metadata": {
        "id": "XKfM1bR14DII"
      },
      "source": [
        "!pip list"
      ],
      "execution_count": null,
      "outputs": []
    },
    {
      "cell_type": "code",
      "metadata": {
        "id": "9SHm7JbN4GfK"
      },
      "source": [
        "!pip uninstall h5py\n",
        "!pip install h5py==2.10.0"
      ],
      "execution_count": null,
      "outputs": []
    },
    {
      "cell_type": "code",
      "metadata": {
        "id": "tipdh42C4Oa0"
      },
      "source": [
        "!git clone https://github.com/matterport/Mask_RCNN\n",
        "%cd Mask_RCNN\n",
        "!pip3 install -3 requeriments.txt\n",
        "!python3 setup.py install"
      ],
      "execution_count": null,
      "outputs": []
    },
    {
      "cell_type": "code",
      "metadata": {
        "id": "GybGBzdy4VCt"
      },
      "source": [
        "!git clone https://github.com/cocodataset/cocoapi.git\n",
        "%cd cocoapi/PythonAPI\n",
        "!make\n",
        "%cd ../../"
      ],
      "execution_count": null,
      "outputs": []
    },
    {
      "cell_type": "code",
      "metadata": {
        "colab": {
          "base_uri": "https://localhost:8080/"
        },
        "id": "LBVQ35__4XF5",
        "outputId": "08eb5da4-f9d1-4381-b84f-b9cec37b74e6"
      },
      "source": [
        "import os \n",
        "import sys\n",
        "import random\n",
        "import math\n",
        "import re\n",
        "import time\n",
        "import numpy as np\n",
        "import cv2\n",
        "import matplotlib\n",
        "import matplotlib.pyplot as plt\n",
        "import json\n",
        "import imgaug\n",
        "\n",
        "\n",
        "\n",
        "# Directorio de trabajo\n",
        "ROOT_DIR = '/gdrive/MyDrive/TFG/projects/software/Mask_RCNN'\n",
        "\n",
        "\n",
        "sys.path.append(ROOT_DIR)\n",
        "\n",
        "# De la carpeta MRCNN importem:\n",
        "\n",
        "from mrcnn.config import Config\n",
        "from mrcnn import utils\n",
        "import mrcnn.model as modellib\n",
        "from mrcnn import visualize\n",
        "from mrcnn.model import log\n",
        "\n",
        "%matplotlib inline\n",
        "\n",
        "# Directorio para guardar el modelo con su configuracion interna\n",
        "MODEL_DIR = os.path.join(ROOT_DIR, \"logs\")\n",
        "\n",
        "# Directorio del modelo pre-etrenado\n",
        "COCO_MODEL_PATH = os.path.join(ROOT_DIR, \"logs/mask_rcnn_coco.h5\")\n"
      ],
      "execution_count": null,
      "outputs": [
        {
          "output_type": "stream",
          "text": [
            "Using TensorFlow backend.\n"
          ],
          "name": "stderr"
        }
      ]
    },
    {
      "cell_type": "code",
      "metadata": {
        "id": "mo2B53FN4dKk"
      },
      "source": [
        "from tensorflow.compat.v1 import ConfigProto\n",
        "from tensorflow.compat.v1 import InteractiveSession"
      ],
      "execution_count": null,
      "outputs": []
    },
    {
      "cell_type": "code",
      "metadata": {
        "id": "1TMChHku4gR4"
      },
      "source": [
        "DATA_DIR = \"/gdrive/MyDrive/TFG/projects/data\"\n",
        "\n",
        "DATASET_TRAIN_DIR = os.path.join(DATA_DIR, 'train')\n",
        "DATASET_VAL_DIR = os.path.join(DATA_DIR, 'val')\n",
        "DATASET_TEST_DIR = os.path.join(DATA_DIR, 'test')\n",
        "\n",
        "config = ConfigProto()\n",
        "config.gpu_options.allow_growth = True\n",
        "session = InteractiveSession(config=config)"
      ],
      "execution_count": null,
      "outputs": []
    },
    {
      "cell_type": "markdown",
      "metadata": {
        "id": "qoUuSjGJ4lRh"
      },
      "source": [
        "CONFIGURATION"
      ]
    },
    {
      "cell_type": "code",
      "metadata": {
        "colab": {
          "base_uri": "https://localhost:8080/"
        },
        "id": "_1U4Wg3-4jq1",
        "outputId": "16a90476-7312-414d-85b5-85ff05d44b42"
      },
      "source": [
        "class LemonsConfig( Config ):\n",
        "  \n",
        "  NAME = 'Lemons'\n",
        "  IMAGES_PER_GPU = 1\n",
        "  NUM_CLASSES = 1 + 1 + 1 + 1 # BACKGROUND + VERDE + MADURO + PODRIDO\n",
        "  STEPS_PER_EPOCH = 1950 #tambien se pueden poner el mismo numero de fotos que hay en el train set\n",
        "  DETECTION_MIN_CONFIDENCE = 0.8\n",
        "\n",
        "config = LemonsConfig()\n",
        "config.display()"
      ],
      "execution_count": null,
      "outputs": [
        {
          "output_type": "stream",
          "text": [
            "\n",
            "Configurations:\n",
            "BACKBONE                       resnet101\n",
            "BACKBONE_STRIDES               [4, 8, 16, 32, 64]\n",
            "BATCH_SIZE                     1\n",
            "BBOX_STD_DEV                   [0.1 0.1 0.2 0.2]\n",
            "COMPUTE_BACKBONE_SHAPE         None\n",
            "DETECTION_MAX_INSTANCES        100\n",
            "DETECTION_MIN_CONFIDENCE       0.8\n",
            "DETECTION_NMS_THRESHOLD        0.3\n",
            "FPN_CLASSIF_FC_LAYERS_SIZE     1024\n",
            "GPU_COUNT                      1\n",
            "GRADIENT_CLIP_NORM             5.0\n",
            "IMAGES_PER_GPU                 1\n",
            "IMAGE_CHANNEL_COUNT            3\n",
            "IMAGE_MAX_DIM                  1024\n",
            "IMAGE_META_SIZE                16\n",
            "IMAGE_MIN_DIM                  800\n",
            "IMAGE_MIN_SCALE                0\n",
            "IMAGE_RESIZE_MODE              square\n",
            "IMAGE_SHAPE                    [1024 1024    3]\n",
            "LEARNING_MOMENTUM              0.9\n",
            "LEARNING_RATE                  0.001\n",
            "LOSS_WEIGHTS                   {'rpn_class_loss': 1.0, 'rpn_bbox_loss': 1.0, 'mrcnn_class_loss': 1.0, 'mrcnn_bbox_loss': 1.0, 'mrcnn_mask_loss': 1.0}\n",
            "MASK_POOL_SIZE                 14\n",
            "MASK_SHAPE                     [28, 28]\n",
            "MAX_GT_INSTANCES               100\n",
            "MEAN_PIXEL                     [123.7 116.8 103.9]\n",
            "MINI_MASK_SHAPE                (56, 56)\n",
            "NAME                           Lemons\n",
            "NUM_CLASSES                    4\n",
            "POOL_SIZE                      7\n",
            "POST_NMS_ROIS_INFERENCE        1000\n",
            "POST_NMS_ROIS_TRAINING         2000\n",
            "PRE_NMS_LIMIT                  6000\n",
            "ROI_POSITIVE_RATIO             0.33\n",
            "RPN_ANCHOR_RATIOS              [0.5, 1, 2]\n",
            "RPN_ANCHOR_SCALES              (32, 64, 128, 256, 512)\n",
            "RPN_ANCHOR_STRIDE              1\n",
            "RPN_BBOX_STD_DEV               [0.1 0.1 0.2 0.2]\n",
            "RPN_NMS_THRESHOLD              0.7\n",
            "RPN_TRAIN_ANCHORS_PER_IMAGE    256\n",
            "STEPS_PER_EPOCH                1950\n",
            "TOP_DOWN_PYRAMID_SIZE          256\n",
            "TRAIN_BN                       False\n",
            "TRAIN_ROIS_PER_IMAGE           200\n",
            "USE_MINI_MASK                  True\n",
            "USE_RPN_ROIS                   True\n",
            "VALIDATION_STEPS               50\n",
            "WEIGHT_DECAY                   0.0001\n",
            "\n",
            "\n"
          ],
          "name": "stdout"
        }
      ]
    },
    {
      "cell_type": "code",
      "metadata": {
        "id": "ImDuusW64x8S"
      },
      "source": [
        "from PIL import Image, ImageDraw\n",
        "axis_Width = 15"
      ],
      "execution_count": null,
      "outputs": []
    },
    {
      "cell_type": "markdown",
      "metadata": {
        "id": "tclq52r447zf"
      },
      "source": [
        "DATASET"
      ]
    },
    {
      "cell_type": "code",
      "metadata": {
        "id": "MsbRtxg645xq"
      },
      "source": [
        "class LemonsDataset(utils.Dataset):\n",
        "    def load_dataset(self, dataset_dir):\n",
        "        self.add_class('dataset', 1, 'VERDE')\n",
        "        self.add_class('dataset', 2, 'MADURO')\n",
        "        self.add_class('dataset', 3, 'PODRIDO')        \n",
        "        # find all images\n",
        "        for i, filename in enumerate(os.listdir(dataset_dir)):\n",
        "            annotation_file = os.path.join(dataset_dir, filename.replace('.jpg', '.json'))\n",
        "            if '.jpg' in filename and os.path.isfile(annotation_file):\n",
        "                    self.add_image('dataset',\n",
        "                               image_id=i,\n",
        "                               path=os.path.join(dataset_dir, filename),\n",
        "                               annotation=annotation_file)\n",
        "   \n",
        "\n",
        "    def extract_masks(self, filename):\n",
        "        json_file = os.path.join(filename)\n",
        "        with open(json_file) as f:\n",
        "            img_anns = json.load(f)\n",
        "       \n",
        "        n_masks = 0\n",
        "        for anno in img_anns['shapes']:\n",
        "            if anno['label']=='VERDE' or anno['label']=='MADURO' or anno['label']=='PODRIDO':\n",
        "                n_masks+=1\n",
        "           \n",
        "        masks = np.zeros([img_anns['imageHeight'], img_anns['imageWidth'], n_masks], dtype='uint8')\n",
        "        classes = []\n",
        "        i=0\n",
        "        for anno in img_anns['shapes']:\n",
        "            if anno['label']=='VERDE' or anno['label']=='MADURO' or anno['label']=='PODRIDO':\n",
        "                mask = np.zeros([img_anns['imageHeight'], img_anns['imageWidth']], dtype=np.uint8)            \n",
        "                cv2.fillPoly(mask, np.array([anno['points']], dtype=np.int32), 1)\n",
        "                masks[:, :, i] = mask\n",
        "                classes.append(self.class_names.index(anno['label']))\n",
        "                i+=1\n",
        "        return masks, classes\n",
        "   \n",
        "\n",
        "    # load the masks for an image\n",
        "    def load_mask(self, image_id):\n",
        "        # get details of image\n",
        "        info = self.image_info[image_id]\n",
        "        # define box file location\n",
        "        path = info['annotation']\n",
        "        # load masks\n",
        "        masks, classes = self.extract_masks(path)\n",
        "        return masks, np.asarray(classes, dtype='int32')\n",
        "   \n",
        "    def image_reference(self, image_id):\n",
        "        info = self.image_info[image_id]\n",
        "        return info['path']"
      ],
      "execution_count": null,
      "outputs": []
    },
    {
      "cell_type": "code",
      "metadata": {
        "id": "bYci80jW5By9",
        "colab": {
          "base_uri": "https://localhost:8080/"
        },
        "outputId": "8fd1be24-dc14-4223-b5fa-4d6fb13528a1"
      },
      "source": [
        "# CREATE DATASET\n",
        "\n",
        "\n",
        "# test set\n",
        "\n",
        "dataset_test = LemonsDataset()\n",
        "dataset_test.load_dataset(DATASET_TEST_DIR)\n",
        "dataset_test.prepare()\n",
        "\n",
        "print(\"Image Count: {}\".format(len(dataset_test.image_ids)))\n",
        "print(\"Class Count: {}\".format(dataset_test.num_classes))\n",
        "for i, info in enumerate(dataset_test.class_info):\n",
        "  print(\"{:3}.  {:50}\".format(i, info['name']))\n",
        "\n",
        "# val set\n",
        "\n",
        "dataset_val = LemonsDataset()\n",
        "dataset_val.load_dataset(DATASET_VAL_DIR)\n",
        "dataset_val.prepare()\n",
        "\n",
        "print(\"Image Count: {}\".format(len(dataset_val.image_ids)))\n",
        "print(\"Class Count: {}\".format(dataset_val.num_classes))\n",
        "for i, info in enumerate(dataset_val.class_info):\n",
        "  print(\"{:3}.  {:50}\".format(i, info['name']))"
      ],
      "execution_count": null,
      "outputs": [
        {
          "output_type": "stream",
          "text": [
            "Image Count: 557\n",
            "Class Count: 4\n",
            "  0.  BG                                                \n",
            "  1.  VERDE                                             \n",
            "  2.  MADURO                                            \n",
            "  3.  PODRIDO                                           \n",
            "Image Count: 278\n",
            "Class Count: 4\n",
            "  0.  BG                                                \n",
            "  1.  VERDE                                             \n",
            "  2.  MADURO                                            \n",
            "  3.  PODRIDO                                           \n"
          ],
          "name": "stdout"
        }
      ]
    },
    {
      "cell_type": "code",
      "metadata": {
        "colab": {
          "base_uri": "https://localhost:8080/",
          "height": 767
        },
        "id": "yU1DHI3L5Gxk",
        "outputId": "a76de05e-be41-4eaa-9a5d-39593acafb48"
      },
      "source": [
        "image_ids = np.random.choice(dataset_test.image_ids, 5)\n",
        "for image_id in image_ids:\n",
        "  image = dataset_test.load_image(image_id)\n",
        "  mask, class_ids = dataset_test.load_mask(image_id)\n",
        "  visualize.display_top_masks(image, mask, class_ids, dataset_test.class_names)"
      ],
      "execution_count": null,
      "outputs": [
        {
          "output_type": "display_data",
          "data": {
            "image/png": "[encoded data removed]",
            "text/plain": [
              "<Figure size 1008x360 with 5 Axes>"
            ]
          },
          "metadata": {
            "tags": [],
            "needs_background": "light"
          }
        },
        {
          "output_type": "display_data",
          "data": {
            "image/png": "[encoded data removed]",
            "text/plain": [
              "<Figure size 1008x360 with 5 Axes>"
            ]
          },
          "metadata": {
            "tags": [],
            "needs_background": "light"
          }
        },
        {
          "output_type": "display_data",
          "data": {
            "image/png": "[encoded data removed]",
            "text/plain": [
              "<Figure size 1008x360 with 5 Axes>"
            ]
          },
          "metadata": {
            "tags": [],
            "needs_background": "light"
          }
        },
        {
          "output_type": "display_data",
          "data": {
            "image/png": "[encoded data removed]",
            "text/plain": [
              "<Figure size 1008x360 with 5 Axes>"
            ]
          },
          "metadata": {
            "tags": [],
            "needs_background": "light"
          }
        },
        {
          "output_type": "display_data",
          "data": {
            "image/png": "[encoded data removed]",
            "text/plain": [
              "<Figure size 1008x360 with 5 Axes>"
            ]
          },
          "metadata": {
            "tags": [],
            "needs_background": "light"
          }
        }
      ]
    },
    {
      "cell_type": "code",
      "metadata": {
        "id": "4aVrpNIv5Knj"
      },
      "source": [
        "%load_ext tensorboard"
      ],
      "execution_count": null,
      "outputs": []
    },
    {
      "cell_type": "markdown",
      "metadata": {
        "id": "wfZTZyJoAcAY"
      },
      "source": [
        "INFERENCIA"
      ]
    },
    {
      "cell_type": "code",
      "metadata": {
        "id": "f1vl1aPY5OgS"
      },
      "source": [
        "class InferenceConfig(LemonsConfig):\n",
        "  GPU_COUNT = 1\n",
        "  IMAGES_PER_GPU = 1\n",
        "\n",
        "inference_config = InferenceConfig()"
      ],
      "execution_count": null,
      "outputs": []
    },
    {
      "cell_type": "code",
      "metadata": {
        "id": "VJbEfHNd6blx"
      },
      "source": [
        "# CREATE INFERENCE MODEL\n",
        "\n",
        "model = modellib.MaskRCNN(mode=\"inference\", config=inference_config, model_dir=MODEL_DIR)\n",
        "\n",
        "model_path = model.find_last()\n",
        "print(\"Loading weigths from: \", model_path)\n",
        "model.load_weights(model_path, by_name=True)"
      ],
      "execution_count": null,
      "outputs": []
    },
    {
      "cell_type": "code",
      "metadata": {
        "id": "i3s_LJqj7olg"
      },
      "source": [
        "def get_ax(rows=1, cols=1, size=8):\n",
        "  _,ax = plt.subplots(rows, cols, figsize=(size*cols, size*rows))\n",
        "  return ax"
      ],
      "execution_count": null,
      "outputs": []
    },
    {
      "cell_type": "code",
      "metadata": {
        "id": "y_13kYLw6xGE"
      },
      "source": [
        "dataset_test.image_ids"
      ],
      "execution_count": null,
      "outputs": []
    },
    {
      "cell_type": "code",
      "metadata": {
        "id": "kNadRgaO8qaT"
      },
      "source": [
        "#TEST IN RANDOM IMAGE\n",
        "#image_id = np.random.choice(dataset_test.image_ids)\n",
        "image_id = 274\n",
        "original_image, image_meta, gt_class_id, gt_bbox, gt_mask =\\\n",
        "    modellib.load_image_gt(dataset_test, inference_config, \n",
        "                           image_id, use_mini_mask=False)\n",
        "\n",
        "log(\"original_image\", original_image)\n",
        "log(\"image_meta\", image_meta)\n",
        "log(\"gt_class_id\", gt_class_id)\n",
        "log(\"gt_bbox\", gt_bbox)\n",
        "log(\"gt_mask\", gt_mask)\n",
        "\n",
        "\n",
        "visualize.display_instances(original_image, gt_bbox, gt_mask, gt_class_id,\n",
        "                            dataset_test.class_names, figsize=(8, 8))\n",
        "\n",
        "print(gt_class_id.shape)"
      ],
      "execution_count": null,
      "outputs": []
    },
    {
      "cell_type": "code",
      "metadata": {
        "id": "LLq0vwdODZa7"
      },
      "source": [
        "start_time = time.time()\n",
        "results = model.detect([original_image], verbose=1)\n",
        "print(\"--- %s seconds ---\" % (time.time() - start_time))\n",
        "r = results[0]\n",
        "visualize.display_instances(original_image, r['rois'], r['masks'], r['class_ids'], \n",
        "                            dataset_test.class_names, r['scores'], ax=get_ax())#foto\n",
        "print(r['class_ids'].shape)"
      ],
      "execution_count": null,
      "outputs": []
    }
  ]
}